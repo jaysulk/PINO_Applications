{
 "cells": [
  {
   "cell_type": "markdown",
   "metadata": {},
   "source": [
    "# Import Libraries"
   ]
  },
  {
   "cell_type": "code",
   "execution_count": 1,
   "metadata": {},
   "outputs": [
    {
     "name": "stderr",
     "output_type": "stream",
     "text": [
      "C:\\Users\\jason\\AppData\\Local\\Temp\\ipykernel_86052\\1418359555.py:1: DeprecationWarning: Importing display from IPython.core.display is deprecated since IPython 7.14, please import from IPython display\n",
      "  from IPython.core.display import display, HTML\n"
     ]
    },
    {
     "data": {
      "text/html": [
       "<style>.container { width:100% !important; }</style>"
      ],
      "text/plain": [
       "<IPython.core.display.HTML object>"
      ]
     },
     "metadata": {},
     "output_type": "display_data"
    },
    {
     "data": {
      "text/html": [
       "<style>.container { width:100% !important; }</style>"
      ],
      "text/plain": [
       "<IPython.core.display.HTML object>"
      ]
     },
     "metadata": {},
     "output_type": "display_data"
    }
   ],
   "source": [
    "from IPython.core.display import display, HTML\n",
    "display(HTML(\"<style>.container { width:100% !important; }</style>\"))\n",
    "%matplotlib notebook\n",
    "from argparse import ArgumentParser\n",
    "import yaml\n",
    "import os\n",
    "import torch\n",
    "# from torch import vmap\n",
    "from functorch import vmap, grad\n",
    "\n",
    "from models import FNN2d, FNN2d_AD\n",
    "from train_utils import Adam\n",
    "# from train_utils.datasets import BurgersLoader'\n",
    "# from train_utils.train_2d import train_2d_burger\n",
    "# from train_utils.eval_2d import eval_burgers\n",
    "\n",
    "from solver.BurgersEq import BurgersEq1D\n",
    "import traceback\n",
    "\n",
    "import scipy.io\n",
    "import torch.nn.functional as F\n",
    "import matplotlib.pyplot as plt\n",
    "import numpy as np\n",
    "\n",
    "import imageio\n",
    "\n",
    "\n",
    "\n",
    "from tqdm import tqdm\n",
    "from train_utils.utils import get_grid, save_checkpoint, torch2dgrid, load_checkpoint, load_config, update_config\n",
    "from train_utils.losses import LpLoss\n",
    "from train_utils.datasets import DataLoader1D\n",
    "# from utils import torch2dgrid\n",
    "from solver.my_random_fields import GRF_Mattern\n",
    "\n",
    "from importlib import reload\n",
    "\n",
    "try:\n",
    "    import wandb\n",
    "except ImportError:\n",
    "    wandb = None\n"
   ]
  },
  {
   "cell_type": "markdown",
   "metadata": {},
   "source": [
    "# Define Loss Functions"
   ]
  },
  {
   "cell_type": "markdown",
   "metadata": {},
   "source": [
    "## Spectral Derivatives"
   ]
  },
  {
   "cell_type": "code",
   "execution_count": 2,
   "metadata": {},
   "outputs": [],
   "source": [
    "def FDM_Burgers(u, D=1, nu=0.01):\n",
    "    batchsize = u.size(0)\n",
    "    nt = u.size(1)\n",
    "    nx = u.size(2)\n",
    "\n",
    "    u = u.reshape(batchsize, nt, nx)\n",
    "    u2 = u**2\n",
    "    dt = D / (nt-1)\n",
    "    dx = D / (nx)\n",
    "\n",
    "    u_h = torch.fft.fft(u, dim=2)\n",
    "    u2_h = torch.fft.fft(u2, dim=2)\n",
    "    # Wavenumbers in y-direction\n",
    "    k_max = nx//2\n",
    "    k_x = torch.cat((torch.arange(start=0, end=k_max, step=1, device=u.device),\n",
    "                     torch.arange(start=-k_max, end=0, step=1, device=u.device)), 0).reshape(1,1,nx)\n",
    "    ux_h = 2j *np.pi*k_x*u_h\n",
    "    u2x_h = 2j *np.pi*k_x*u2_h\n",
    "    uxx_h = 2j *np.pi*k_x*ux_h\n",
    "    ux = torch.fft.irfft(ux_h[:, :, :k_max+1], dim=2, n=nx)\n",
    "    u2x = torch.fft.irfft(u2x_h[:, :, :k_max+1], dim=2, n=nx)\n",
    "    uxx = torch.fft.irfft(uxx_h[:, :, :k_max+1], dim=2, n=nx)\n",
    "    ut = (u[:, 2:, :] - u[:, :-2, :]) / (2 * dt)\n",
    "    Du = ut + (0.5*u2x - nu*uxx)[:,1:-1,:]\n",
    "#     Du = ut + (u*ux - nu*uxx)[:,1:-1,:]\n",
    "    return Du\n",
    "\n",
    "def PINO_loss_Burgers(u, u0, nu=0.01):\n",
    "    batchsize = u.size(0)\n",
    "    nt = u.size(1)\n",
    "    nx = u.size(2)\n",
    "\n",
    "    u = u.reshape(batchsize, nt, nx)\n",
    "    # lploss = LpLoss(size_average=True)\n",
    "\n",
    "    index_t = torch.zeros(nx,).long()\n",
    "    index_x = torch.tensor(range(nx)).long()\n",
    "    boundary_u = u[:, index_t, index_x]\n",
    "    loss_u = F.mse_loss(boundary_u, u0)\n",
    "\n",
    "    Du = FDM_Burgers(u, nu=nu)[:, :, :]\n",
    "    f = torch.zeros(Du.shape, device=u.device)\n",
    "    loss_f = F.mse_loss(Du, f)\n",
    "\n",
    "    # loss_bc0 = F.mse_loss(u[:, :, 0], u[:, :, -1])\n",
    "    # loss_bc1 = F.mse_loss((u[:, :, 1] - u[:, :, -1]) /\n",
    "    #                       (2/(nx)), (u[:, :, 0] - u[:, :, -2])/(2/(nx)))\n",
    "    return loss_u, loss_f"
   ]
  },
  {
   "cell_type": "markdown",
   "metadata": {},
   "source": [
    "# Define Training Function"
   ]
  },
  {
   "cell_type": "code",
   "execution_count": 3,
   "metadata": {},
   "outputs": [],
   "source": [
    "def train_Burgers(model,\n",
    "                  train_loader,\n",
    "                  optimizer, \n",
    "                  scheduler,\n",
    "                  config,\n",
    "                  rank=0,\n",
    "                  log=False,\n",
    "                  project='PINO-2d-default',\n",
    "                  group='default',\n",
    "                  tags=['default'],\n",
    "                  use_tqdm=True):\n",
    "    if rank == 0 and wandb and log:\n",
    "        run = wandb.init(project=project,\n",
    "                         entity='shawngr2',\n",
    "                         group=group,\n",
    "                         config=config,\n",
    "                         tags=tags, reinit=True,\n",
    "                         settings=wandb.Settings(start_method=\"fork\"))\n",
    "\n",
    "    data_weight = config['train']['xy_loss']\n",
    "    f_weight = config['train']['f_loss']\n",
    "    ic_weight = config['train']['ic_loss']\n",
    "    nu = config['data']['nu']\n",
    "    ckpt_freq = config['train']['ckpt_freq']\n",
    "\n",
    "    model.train()\n",
    "    myloss = LpLoss(size_average=True)\n",
    "    \n",
    "    pbar = range(config['train']['epochs'])\n",
    "    if use_tqdm:\n",
    "        pbar = tqdm(pbar, dynamic_ncols=True, smoothing=0.1)\n",
    "\n",
    "    for e in pbar:\n",
    "        model.train()\n",
    "        train_pino = 0.0\n",
    "        data_l2 = 0.0\n",
    "        train_loss = 0.0\n",
    "\n",
    "        for x, y in train_loader:\n",
    "            x, y = x.to(rank), y.to(rank)\n",
    "            out = model(x).reshape(y.shape)\n",
    "            data_loss = myloss(out, y)\n",
    "            \n",
    "            loss_u, loss_f = PINO_loss_Burgers(out, x[:, 0, :, 0], nu=nu)\n",
    "            total_loss = loss_u * ic_weight + loss_f * f_weight + data_loss * data_weight\n",
    "\n",
    "            optimizer.zero_grad()\n",
    "            total_loss.backward()\n",
    "            optimizer.step()\n",
    "\n",
    "            data_l2 += data_loss.item()\n",
    "            train_pino += loss_f.item()\n",
    "            train_loss += total_loss.item()\n",
    "        scheduler.step()\n",
    "        data_l2 /= len(train_loader)\n",
    "        train_pino /= len(train_loader)\n",
    "        train_loss /= len(train_loader)\n",
    "        if use_tqdm:\n",
    "            pbar.set_description(\n",
    "                (\n",
    "                    f'Epoch {e}, train loss: {train_loss:.5f} '\n",
    "                    f'train f error: {train_pino:.5f}; '\n",
    "                    f'data l2 error: {data_l2:.5f}'\n",
    "                )\n",
    "            )\n",
    "        if wandb and log:\n",
    "            wandb.log(\n",
    "                {\n",
    "                    'Train f error': train_pino,\n",
    "                    'Train L2 error': data_l2,\n",
    "                    'Train loss': train_loss,\n",
    "                }\n",
    "            )\n",
    "\n",
    "        if e % ckpt_freq == 0:\n",
    "            save_checkpoint(config['train']['save_dir'],\n",
    "                            config['train']['save_name'].replace('.pt', f'_{e}.pt'),\n",
    "                            model, optimizer)\n",
    "    save_checkpoint(config['train']['save_dir'],\n",
    "                    config['train']['save_name'],\n",
    "                    model, optimizer)\n",
    "    print('Done!')"
   ]
  },
  {
   "cell_type": "code",
   "execution_count": 4,
   "metadata": {},
   "outputs": [],
   "source": [
    "def train_Burgers_padding(model,\n",
    "                          train_loader,\n",
    "                          optimizer, \n",
    "                          scheduler,\n",
    "                          config,\n",
    "                          padding=0,\n",
    "                          rank=0,\n",
    "                          log=False,\n",
    "                          project='PINO-2d-default',\n",
    "                          group='default',\n",
    "                          tags=['default'],\n",
    "                          use_tqdm=True):\n",
    "    \n",
    "    if rank == 0 and wandb and log:\n",
    "        run = wandb.init(project=project,\n",
    "                         entity='shawngr2',\n",
    "                         group=group,\n",
    "                         config=config,\n",
    "                         tags=tags, reinit=True,\n",
    "                         settings=wandb.Settings(start_method=\"fork\"))\n",
    "\n",
    "    data_weight = config['train']['xy_loss']\n",
    "    f_weight = config['train']['f_loss']\n",
    "    ic_weight = config['train']['ic_loss']\n",
    "    nu = config['data']['nu']\n",
    "    ckpt_freq = config['train']['ckpt_freq']\n",
    "    model.train()\n",
    "    myloss = LpLoss(size_average=True)\n",
    "    \n",
    "    pbar = range(config['train']['epochs'])\n",
    "    if use_tqdm:\n",
    "        pbar = tqdm(pbar, dynamic_ncols=True, smoothing=0.1)\n",
    "\n",
    "    for e in pbar:\n",
    "        model.train()\n",
    "        train_pino = 0.0\n",
    "        data_l2 = 0.0\n",
    "        train_loss = 0.0\n",
    "\n",
    "        for x, y in train_loader:\n",
    "            x, y = x.to(rank), y.to(rank)\n",
    "#             print(y.shape)\n",
    "            x_in = F.pad(x, (0, 0, 0, 0, 0, padding), \"constant\", 0)\n",
    "#             display(x.shape, x_in.shape)\n",
    "            batch_size, T, S = old_shape = y.shape\n",
    "            new_shape = (batch_size, T + padding, S)\n",
    "            out = model(x_in).reshape(batch_size, T + padding, S)\n",
    "            out = out[..., :-padding, :]\n",
    "            \n",
    "#             out = model(x).reshape(y.shape)\n",
    "            u0 = x[:, 0, :, 0]\n",
    "    \n",
    "            data_loss = myloss(out.view(batch_size, T, S), y.view(batch_size, T, S))\n",
    "            \n",
    "            loss_u, loss_f = PINO_loss_Burgers(out.view(batch_size, T, S), u0, nu=nu)\n",
    "            total_loss = loss_u * ic_weight + loss_f * f_weight + data_loss * data_weight\n",
    "\n",
    "            optimizer.zero_grad()\n",
    "            total_loss.backward()\n",
    "            optimizer.step()\n",
    "\n",
    "            data_l2 += data_loss.item()\n",
    "            train_pino += loss_f.item()\n",
    "            train_loss += total_loss.item()\n",
    "        scheduler.step()\n",
    "        data_l2 /= len(train_loader)\n",
    "        train_pino /= len(train_loader)\n",
    "        train_loss /= len(train_loader)\n",
    "        if use_tqdm:\n",
    "            pbar.set_description(\n",
    "                (\n",
    "                    f'Epoch {e}, train loss: {train_loss:.5f} '\n",
    "                    f'train f error: {train_pino:.5f}; '\n",
    "                    f'data l2 error: {data_l2:.5f}'\n",
    "                )\n",
    "            )\n",
    "        if wandb and log:\n",
    "            wandb.log(\n",
    "                {\n",
    "                    'Train f error': train_pino,\n",
    "                    'Train L2 error': data_l2,\n",
    "                    'Train loss': train_loss,\n",
    "                }\n",
    "            )\n",
    "\n",
    "        if e % ckpt_freq == 0:\n",
    "            save_checkpoint(config['train']['save_dir'],\n",
    "                            config['train']['save_name'].replace('.pt', f'_{e}.pt'),\n",
    "                            model, optimizer)\n",
    "    save_checkpoint(config['train']['save_dir'],\n",
    "                    config['train']['save_name'],\n",
    "                    model, optimizer)\n",
    "    print('Done!')"
   ]
  },
  {
   "cell_type": "markdown",
   "metadata": {},
   "source": [
    "# Evaluation Function"
   ]
  },
  {
   "cell_type": "code",
   "execution_count": 5,
   "metadata": {},
   "outputs": [],
   "source": [
    "def eval_Burgers(model,\n",
    "                 dataloader,\n",
    "                 config,\n",
    "                 device,\n",
    "                 use_tqdm=True):\n",
    "    model.eval()\n",
    "    myloss = LpLoss(size_average=True)\n",
    "    nu = config['data']['nu']\n",
    "    if use_tqdm:\n",
    "        pbar = tqdm(dataloader, dynamic_ncols=True, smoothing=0.05)\n",
    "    else:\n",
    "        pbar = dataloader\n",
    "\n",
    "    test_err = []\n",
    "    f_err = []\n",
    "    with torch.no_grad():\n",
    "        for x, y in pbar:\n",
    "            x, y = x.to(device), y.to(device)\n",
    "            out = model(x).reshape(y.shape)\n",
    "            data_loss = myloss(out, y)\n",
    "\n",
    "            loss_u, f_loss = PINO_loss_Burgers(out, x[:, 0, :, 0], nu=nu)\n",
    "            test_err.append(data_loss.item())\n",
    "            f_err.append(f_loss.item())\n",
    "\n",
    "    mean_f_err = np.mean(f_err)\n",
    "    std_f_err = np.std(f_err, ddof=1) / np.sqrt(len(f_err))\n",
    "\n",
    "    mean_err = np.mean(test_err)\n",
    "    std_err = np.std(test_err, ddof=1) / np.sqrt(len(test_err))\n",
    "\n",
    "    print(f'==Averaged relative L2 error mean: {mean_err}, std error: {std_err}==\\n'\n",
    "          f'==Averaged equation error mean: {mean_f_err}, std error: {std_f_err}==')\n",
    "\n",
    "\n",
    "def eval_Burgers_padding(model,\n",
    "                         dataloader,\n",
    "                         config,\n",
    "                         padding=0,\n",
    "                         device=None,\n",
    "                         use_tqdm=True):\n",
    "    model.eval()\n",
    "    myloss = LpLoss(size_average=True)\n",
    "    nu = config['data']['nu']\n",
    "    if use_tqdm:\n",
    "        pbar = tqdm(dataloader, dynamic_ncols=True, smoothing=0.05)\n",
    "    else:\n",
    "        pbar = dataloader\n",
    "\n",
    "    test_err = []\n",
    "    f_err = []\n",
    "    with torch.no_grad():\n",
    "        for x, y in pbar:\n",
    "            x, y = x.to(device), y.to(device)\n",
    "            x_in = F.pad(x, (0, 0, 0, 0, 0, padding), \"constant\", 0)\n",
    "            batch_size, T, S = old_shape = y.shape\n",
    "            new_shape = (batch_size, T + padding, S)\n",
    "            out = model(x_in).reshape(batch_size, T + padding, S)\n",
    "            out = out[..., :-padding, :]\n",
    "#             out = model(x).reshape(y.shape)\n",
    "            data_loss = myloss(out, y)\n",
    "\n",
    "            loss_u, f_loss = PINO_loss_Burgers(out, x[:, 0, :, 0], nu=nu)\n",
    "            test_err.append(data_loss.item())\n",
    "            f_err.append(f_loss.item())\n",
    "\n",
    "    mean_f_err = np.mean(f_err)\n",
    "    std_f_err = np.std(f_err, ddof=1) / np.sqrt(len(f_err))\n",
    "\n",
    "    mean_err = np.mean(test_err)\n",
    "    std_err = np.std(test_err, ddof=1) / np.sqrt(len(test_err))\n",
    "\n",
    "    print(f'==Averaged relative L2 error mean: {mean_err}, std error: {std_err}==\\n'\n",
    "          f'==Averaged equation error mean: {mean_f_err}, std error: {std_f_err}==')\n",
    "            \n",
    "            \n",
    "        "
   ]
  },
  {
   "cell_type": "markdown",
   "metadata": {},
   "source": [
    "# Load Config"
   ]
  },
  {
   "cell_type": "code",
   "execution_count": 6,
   "metadata": {},
   "outputs": [
    {
     "data": {
      "text/plain": [
       "{'data': {'name': 'Burgers-0003',\n",
       "  'total_num': 100,\n",
       "  'n_train': 90,\n",
       "  'n_test': 10,\n",
       "  'nx': 128,\n",
       "  'nt': 100,\n",
       "  'sub': 1,\n",
       "  'sub_t': 1,\n",
       "  'nu': 0.01},\n",
       " 'model': {'layers': [16, 24, 24, 32, 32],\n",
       "  'modes1': [15, 12, 9, 9],\n",
       "  'modes2': [15, 12, 9, 9],\n",
       "  'fc_dim': 128,\n",
       "  'activation': 'gelu'},\n",
       " 'train': {'batchsize': 20,\n",
       "  'epochs': 500,\n",
       "  'milestones': [100, 200, 300, 400, 500],\n",
       "  'base_lr': 0.001,\n",
       "  'scheduler_gamma': 0.5,\n",
       "  'ic_loss': 5.0,\n",
       "  'f_loss': 1.0,\n",
       "  'xy_loss': 5.0,\n",
       "  'save_dir': 'Burgers',\n",
       "  'save_name': 'Burgers-0003.pt',\n",
       "  'ckpt': 'checkpoints/Burgers/Burgers-0003.pt',\n",
       "  'ckpt_freq': 100},\n",
       " 'log': {'project': 'PINO-Burgers', 'group': 'Burgers-0003'},\n",
       " 'test': {'batchsize': 1, 'ckpt': 'checkpoints/Burgers/Burgers-0003.pt'}}"
      ]
     },
     "metadata": {},
     "output_type": "display_data"
    }
   ],
   "source": [
    "config_file = 'configs/custom/burgers-0003.yaml'\n",
    "config = load_config(config_file)\n",
    "display(config)"
   ]
  },
  {
   "cell_type": "markdown",
   "metadata": {},
   "source": [
    "# Parameters"
   ]
  },
  {
   "cell_type": "code",
   "execution_count": 7,
   "metadata": {},
   "outputs": [],
   "source": [
    "Nsamples = config['data']['total_num']\n",
    "N = config['data']['nx']\n",
    "Nt0 = config['data']['nt']\n",
    "nu = config['data']['nu']\n",
    "sub_x = config['data']['sub']\n",
    "sub_t = config['data']['sub_t']\n",
    "Nx = N // sub_x\n",
    "Nt = Nt0 // sub_t + 1\n",
    "dim = 1\n",
    "l = 0.1\n",
    "L = 1.0\n",
    "sigma = 0.5 #2.0\n",
    "Nu = None # 2.0\n",
    "dt = 1.0e-4\n",
    "tend = 1.0\n",
    "save_int = int(tend/dt/Nt)\n",
    "\n",
    "device = torch.device('cuda' if torch.cuda.is_available() else 'cpu')"
   ]
  },
  {
   "cell_type": "code",
   "execution_count": 8,
   "metadata": {},
   "outputs": [],
   "source": [
    "grf = GRF_Mattern(dim, N, length=L, nu=Nu, l=l, sigma=sigma, boundary=\"periodic\", device=device)\n",
    "U0 = grf.sample(Nsamples)"
   ]
  },
  {
   "cell_type": "code",
   "execution_count": 9,
   "metadata": {},
   "outputs": [
    {
     "data": {
      "text/plain": [
       "torch.Size([100, 128])"
      ]
     },
     "execution_count": 9,
     "metadata": {},
     "output_type": "execute_result"
    }
   ],
   "source": [
    "U0.shape"
   ]
  },
  {
   "cell_type": "code",
   "execution_count": 10,
   "metadata": {},
   "outputs": [
    {
     "data": {
      "text/plain": [
       "0.01"
      ]
     },
     "execution_count": 10,
     "metadata": {},
     "output_type": "execute_result"
    }
   ],
   "source": [
    "nu"
   ]
  },
  {
   "cell_type": "code",
   "execution_count": 11,
   "metadata": {},
   "outputs": [],
   "source": [
    "burgers_eq = BurgersEq1D(Nx=Nx, nu=nu, dt=dt, device=device)\n",
    "save_interval = int(1e-2/dt)\n",
    "U = vmap(burgers_eq.burgers_driver, in_dims=(0, None))(U0, save_interval) "
   ]
  },
  {
   "cell_type": "code",
   "execution_count": 12,
   "metadata": {},
   "outputs": [
    {
     "data": {
      "text/plain": [
       "tensor([[[-0.5454, -0.5400, -0.5295,  ..., -0.5345, -0.5422, -0.5460],\n",
       "         [-0.5343, -0.5254, -0.5118,  ..., -0.5340, -0.5384, -0.5385],\n",
       "         [-0.5215, -0.5099, -0.4941,  ..., -0.5309, -0.5320, -0.5289],\n",
       "         ...,\n",
       "         [-0.1614, -0.1567, -0.1520,  ..., -0.1755, -0.1708, -0.1661],\n",
       "         [-0.1605, -0.1558, -0.1511,  ..., -0.1744, -0.1698, -0.1651],\n",
       "         [-0.1595, -0.1548, -0.1502,  ..., -0.1733, -0.1687, -0.1641]],\n",
       "\n",
       "        [[-0.0923, -0.1042, -0.1167,  ..., -0.0625, -0.0715, -0.0814],\n",
       "         [-0.0951, -0.1070, -0.1194,  ..., -0.0648, -0.0740, -0.0841],\n",
       "         [-0.0978, -0.1096, -0.1220,  ..., -0.0670, -0.0764, -0.0867],\n",
       "         ...,\n",
       "         [-0.0655, -0.0651, -0.0644,  ..., -0.0647, -0.0653, -0.0655],\n",
       "         [-0.0649, -0.0645, -0.0638,  ..., -0.0642, -0.0648, -0.0650],\n",
       "         [-0.0644, -0.0640, -0.0632,  ..., -0.0638, -0.0643, -0.0645]],\n",
       "\n",
       "        [[ 0.2795,  0.2338,  0.1842,  ...,  0.3793,  0.3534,  0.3198],\n",
       "         [ 0.2850,  0.2409,  0.1919,  ...,  0.3745,  0.3528,  0.3227],\n",
       "         [ 0.2884,  0.2464,  0.1987,  ...,  0.3675,  0.3496,  0.3231],\n",
       "         ...,\n",
       "         [ 0.1147,  0.1122,  0.1094,  ...,  0.1207,  0.1189,  0.1169],\n",
       "         [ 0.1146,  0.1121,  0.1093,  ...,  0.1207,  0.1189,  0.1168],\n",
       "         [ 0.1145,  0.1120,  0.1091,  ...,  0.1207,  0.1188,  0.1168]],\n",
       "\n",
       "        ...,\n",
       "\n",
       "        [[ 0.2288,  0.2341,  0.2364,  ...,  0.1987,  0.2107,  0.2209],\n",
       "         [ 0.2228,  0.2282,  0.2310,  ...,  0.1938,  0.2051,  0.2149],\n",
       "         [ 0.2172,  0.2227,  0.2258,  ...,  0.1894,  0.2001,  0.2095],\n",
       "         ...,\n",
       "         [ 0.0870,  0.0867,  0.0860,  ...,  0.0858,  0.0865,  0.0869],\n",
       "         [ 0.0864,  0.0861,  0.0855,  ...,  0.0852,  0.0859,  0.0863],\n",
       "         [ 0.0858,  0.0856,  0.0850,  ...,  0.0847,  0.0854,  0.0858]],\n",
       "\n",
       "        [[ 0.1364,  0.1392,  0.1371,  ...,  0.1010,  0.1169,  0.1288],\n",
       "         [ 0.1280,  0.1313,  0.1300,  ...,  0.0937,  0.1088,  0.1204],\n",
       "         [ 0.1203,  0.1238,  0.1230,  ...,  0.0873,  0.1016,  0.1127],\n",
       "         ...,\n",
       "         [-0.0264, -0.0309, -0.0353,  ..., -0.0120, -0.0170, -0.0218],\n",
       "         [-0.0263, -0.0308, -0.0351,  ..., -0.0120, -0.0169, -0.0217],\n",
       "         [-0.0262, -0.0307, -0.0350,  ..., -0.0119, -0.0168, -0.0216]],\n",
       "\n",
       "        [[ 0.1007,  0.0852,  0.0761,  ...,  0.1884,  0.1523,  0.1229],\n",
       "         [ 0.1147,  0.0971,  0.0859,  ...,  0.2095,  0.1708,  0.1391],\n",
       "         [ 0.1296,  0.1097,  0.0961,  ...,  0.2326,  0.1910,  0.1566],\n",
       "         ...,\n",
       "         [ 0.1929,  0.1984,  0.2036,  ...,  0.1756,  0.1815,  0.1873],\n",
       "         [ 0.1913,  0.1967,  0.2018,  ...,  0.1740,  0.1799,  0.1857],\n",
       "         [ 0.1896,  0.1950,  0.2001,  ...,  0.1725,  0.1784,  0.1841]]],\n",
       "       device='cuda:0')"
      ]
     },
     "execution_count": 12,
     "metadata": {},
     "output_type": "execute_result"
    }
   ],
   "source": [
    "U"
   ]
  },
  {
   "cell_type": "code",
   "execution_count": 13,
   "metadata": {},
   "outputs": [
    {
     "data": {
      "text/plain": [
       "torch.Size([100, 101, 128])"
      ]
     },
     "metadata": {},
     "output_type": "display_data"
    },
    {
     "data": {
      "text/plain": [
       "torch.Size([100, 128])"
      ]
     },
     "metadata": {},
     "output_type": "display_data"
    }
   ],
   "source": [
    "a = U0.cpu().float()\n",
    "u = U.cpu().float()\n",
    "display(u.shape,a.shape)"
   ]
  },
  {
   "cell_type": "code",
   "execution_count": 14,
   "metadata": {},
   "outputs": [
    {
     "data": {
      "text/plain": [
       "{'data': {'name': 'Burgers-0003',\n",
       "  'total_num': 100,\n",
       "  'n_train': 90,\n",
       "  'n_test': 10,\n",
       "  'nx': 128,\n",
       "  'nt': 100,\n",
       "  'sub': 1,\n",
       "  'sub_t': 1,\n",
       "  'nu': 0.01},\n",
       " 'model': {'layers': [16, 24, 24, 32, 32],\n",
       "  'modes1': [15, 12, 9, 9],\n",
       "  'modes2': [15, 12, 9, 9],\n",
       "  'fc_dim': 128,\n",
       "  'activation': 'gelu'},\n",
       " 'train': {'batchsize': 20,\n",
       "  'epochs': 500,\n",
       "  'milestones': [100, 200, 300, 400, 500],\n",
       "  'base_lr': 0.001,\n",
       "  'scheduler_gamma': 0.5,\n",
       "  'ic_loss': 5.0,\n",
       "  'f_loss': 1.0,\n",
       "  'xy_loss': 5.0,\n",
       "  'save_dir': 'Burgers',\n",
       "  'save_name': 'Burgers-0003.pt',\n",
       "  'ckpt': 'checkpoints/Burgers/Burgers-0003.pt',\n",
       "  'ckpt_freq': 100},\n",
       " 'log': {'project': 'PINO-Burgers', 'group': 'Burgers-0003'},\n",
       " 'test': {'batchsize': 1, 'ckpt': 'checkpoints/Burgers/Burgers-0003.pt'}}"
      ]
     },
     "metadata": {},
     "output_type": "display_data"
    }
   ],
   "source": [
    "display(config)"
   ]
  },
  {
   "cell_type": "code",
   "execution_count": 15,
   "metadata": {},
   "outputs": [],
   "source": [
    "dataset = DataLoader1D(a, u, config['data']['nx'], config['data']['nt'])\n",
    "train_loader = dataset.make_loader(config['data']['n_train'], config['train']['batchsize'], start=0, train=True)\n",
    "test_loader = dataset.make_loader(config['data']['n_test'], config['test']['batchsize'], start=config['data']['n_train'], train=False)"
   ]
  },
  {
   "cell_type": "code",
   "execution_count": 16,
   "metadata": {},
   "outputs": [],
   "source": [
    "model = FNN2d(modes1=config['model']['modes1'],\n",
    "              modes2=config['model']['modes2'],\n",
    "              fc_dim=config['model']['fc_dim'],\n",
    "              layers=config['model']['layers'],\n",
    "              activation=config['model']['activation'],\n",
    "             ).to(device)"
   ]
  },
  {
   "cell_type": "code",
   "execution_count": 17,
   "metadata": {},
   "outputs": [],
   "source": [
    "# model = FNN2d_AD(modes1=config['model']['modes1'],\n",
    "#                   modes2=config['model']['modes2'],\n",
    "#                   fc_dim=config['model']['fc_dim'],\n",
    "#                   layers=config['model']['layers'],\n",
    "#                   activation=config['model']['activation']).to(device)"
   ]
  },
  {
   "cell_type": "code",
   "execution_count": 18,
   "metadata": {},
   "outputs": [],
   "source": [
    "log = False\n",
    "\n",
    "optimizer = Adam(model.parameters(), betas=(0.9, 0.999),lr=config['train']['base_lr'])\n",
    "scheduler = torch.optim.lr_scheduler.MultiStepLR(optimizer,\n",
    "                                                 milestones=config['train']['milestones'],\n",
    "                                                 gamma=config['train']['scheduler_gamma'])"
   ]
  },
  {
   "cell_type": "markdown",
   "metadata": {},
   "source": [
    "# Load from checkpoint"
   ]
  },
  {
   "cell_type": "code",
   "execution_count": 19,
   "metadata": {},
   "outputs": [],
   "source": [
    "#load_checkpoint(model, ckpt_path=config['train']['ckpt'], optimizer=None)"
   ]
  },
  {
   "cell_type": "markdown",
   "metadata": {},
   "source": [
    "# Train the Model"
   ]
  },
  {
   "cell_type": "code",
   "execution_count": 20,
   "metadata": {},
   "outputs": [
    {
     "name": "stderr",
     "output_type": "stream",
     "text": [
      "  0%|                                                                                          | 0/500 [00:01<?, ?it/s]\n"
     ]
    },
    {
     "ename": "RuntimeError",
     "evalue": "rfftn expects a real-valued input tensor, but got ComplexFloat",
     "output_type": "error",
     "traceback": [
      "\u001B[1;31m---------------------------------------------------------------------------\u001B[0m",
      "\u001B[1;31mRuntimeError\u001B[0m                              Traceback (most recent call last)",
      "Cell \u001B[1;32mIn[20], line 1\u001B[0m\n\u001B[1;32m----> 1\u001B[0m \u001B[43mtrain_Burgers\u001B[49m\u001B[43m(\u001B[49m\u001B[43mmodel\u001B[49m\u001B[43m,\u001B[49m\n\u001B[0;32m      2\u001B[0m \u001B[43m              \u001B[49m\u001B[43mtrain_loader\u001B[49m\u001B[43m,\u001B[49m\n\u001B[0;32m      3\u001B[0m \u001B[43m              \u001B[49m\u001B[43moptimizer\u001B[49m\u001B[43m,\u001B[49m\n\u001B[0;32m      4\u001B[0m \u001B[43m              \u001B[49m\u001B[43mscheduler\u001B[49m\u001B[43m,\u001B[49m\n\u001B[0;32m      5\u001B[0m \u001B[43m              \u001B[49m\u001B[43mconfig\u001B[49m\u001B[43m,\u001B[49m\n\u001B[0;32m      6\u001B[0m \u001B[43m              \u001B[49m\u001B[43mrank\u001B[49m\u001B[38;5;241;43m=\u001B[39;49m\u001B[38;5;241;43m0\u001B[39;49m\u001B[43m,\u001B[49m\n\u001B[0;32m      7\u001B[0m \u001B[43m              \u001B[49m\u001B[43mlog\u001B[49m\u001B[38;5;241;43m=\u001B[39;49m\u001B[43mlog\u001B[49m\u001B[43m,\u001B[49m\n\u001B[0;32m      8\u001B[0m \u001B[43m              \u001B[49m\u001B[43mproject\u001B[49m\u001B[38;5;241;43m=\u001B[39;49m\u001B[43mconfig\u001B[49m\u001B[43m[\u001B[49m\u001B[38;5;124;43m'\u001B[39;49m\u001B[38;5;124;43mlog\u001B[39;49m\u001B[38;5;124;43m'\u001B[39;49m\u001B[43m]\u001B[49m\u001B[43m[\u001B[49m\u001B[38;5;124;43m'\u001B[39;49m\u001B[38;5;124;43mproject\u001B[39;49m\u001B[38;5;124;43m'\u001B[39;49m\u001B[43m]\u001B[49m\u001B[43m,\u001B[49m\n\u001B[0;32m      9\u001B[0m \u001B[43m              \u001B[49m\u001B[43mgroup\u001B[49m\u001B[38;5;241;43m=\u001B[39;49m\u001B[43mconfig\u001B[49m\u001B[43m[\u001B[49m\u001B[38;5;124;43m'\u001B[39;49m\u001B[38;5;124;43mlog\u001B[39;49m\u001B[38;5;124;43m'\u001B[39;49m\u001B[43m]\u001B[49m\u001B[43m[\u001B[49m\u001B[38;5;124;43m'\u001B[39;49m\u001B[38;5;124;43mgroup\u001B[39;49m\u001B[38;5;124;43m'\u001B[39;49m\u001B[43m]\u001B[49m\u001B[43m)\u001B[49m\n",
      "Cell \u001B[1;32mIn[3], line 41\u001B[0m, in \u001B[0;36mtrain_Burgers\u001B[1;34m(model, train_loader, optimizer, scheduler, config, rank, log, project, group, tags, use_tqdm)\u001B[0m\n\u001B[0;32m     39\u001B[0m \u001B[38;5;28;01mfor\u001B[39;00m x, y \u001B[38;5;129;01min\u001B[39;00m train_loader:\n\u001B[0;32m     40\u001B[0m     x, y \u001B[38;5;241m=\u001B[39m x\u001B[38;5;241m.\u001B[39mto(rank), y\u001B[38;5;241m.\u001B[39mto(rank)\n\u001B[1;32m---> 41\u001B[0m     out \u001B[38;5;241m=\u001B[39m \u001B[43mmodel\u001B[49m\u001B[43m(\u001B[49m\u001B[43mx\u001B[49m\u001B[43m)\u001B[49m\u001B[38;5;241m.\u001B[39mreshape(y\u001B[38;5;241m.\u001B[39mshape)\n\u001B[0;32m     42\u001B[0m     data_loss \u001B[38;5;241m=\u001B[39m myloss(out, y)\n\u001B[0;32m     44\u001B[0m     loss_u, loss_f \u001B[38;5;241m=\u001B[39m PINO_loss_Burgers(out, x[:, \u001B[38;5;241m0\u001B[39m, :, \u001B[38;5;241m0\u001B[39m], nu\u001B[38;5;241m=\u001B[39mnu)\n",
      "File \u001B[1;32m~\\miniconda3\\lib\\site-packages\\torch\\nn\\modules\\module.py:1194\u001B[0m, in \u001B[0;36mModule._call_impl\u001B[1;34m(self, *input, **kwargs)\u001B[0m\n\u001B[0;32m   1190\u001B[0m \u001B[38;5;66;03m# If we don't have any hooks, we want to skip the rest of the logic in\u001B[39;00m\n\u001B[0;32m   1191\u001B[0m \u001B[38;5;66;03m# this function, and just call forward.\u001B[39;00m\n\u001B[0;32m   1192\u001B[0m \u001B[38;5;28;01mif\u001B[39;00m \u001B[38;5;129;01mnot\u001B[39;00m (\u001B[38;5;28mself\u001B[39m\u001B[38;5;241m.\u001B[39m_backward_hooks \u001B[38;5;129;01mor\u001B[39;00m \u001B[38;5;28mself\u001B[39m\u001B[38;5;241m.\u001B[39m_forward_hooks \u001B[38;5;129;01mor\u001B[39;00m \u001B[38;5;28mself\u001B[39m\u001B[38;5;241m.\u001B[39m_forward_pre_hooks \u001B[38;5;129;01mor\u001B[39;00m _global_backward_hooks\n\u001B[0;32m   1193\u001B[0m         \u001B[38;5;129;01mor\u001B[39;00m _global_forward_hooks \u001B[38;5;129;01mor\u001B[39;00m _global_forward_pre_hooks):\n\u001B[1;32m-> 1194\u001B[0m     \u001B[38;5;28;01mreturn\u001B[39;00m forward_call(\u001B[38;5;241m*\u001B[39m\u001B[38;5;28minput\u001B[39m, \u001B[38;5;241m*\u001B[39m\u001B[38;5;241m*\u001B[39mkwargs)\n\u001B[0;32m   1195\u001B[0m \u001B[38;5;66;03m# Do not call functions when jit is used\u001B[39;00m\n\u001B[0;32m   1196\u001B[0m full_backward_hooks, non_full_backward_hooks \u001B[38;5;241m=\u001B[39m [], []\n",
      "File \u001B[1;32m~\\Documents\\GitHub\\PINO_Applications\\models\\fourier2d.py:80\u001B[0m, in \u001B[0;36mFNN2d.forward\u001B[1;34m(self, x)\u001B[0m\n\u001B[0;32m     77\u001B[0m x \u001B[38;5;241m=\u001B[39m x\u001B[38;5;241m.\u001B[39mpermute(\u001B[38;5;241m0\u001B[39m, \u001B[38;5;241m3\u001B[39m, \u001B[38;5;241m1\u001B[39m, \u001B[38;5;241m2\u001B[39m)\n\u001B[0;32m     79\u001B[0m \u001B[38;5;28;01mfor\u001B[39;00m i, (speconv, w) \u001B[38;5;129;01min\u001B[39;00m \u001B[38;5;28menumerate\u001B[39m(\u001B[38;5;28mzip\u001B[39m(\u001B[38;5;28mself\u001B[39m\u001B[38;5;241m.\u001B[39msp_convs, \u001B[38;5;28mself\u001B[39m\u001B[38;5;241m.\u001B[39mws)):\n\u001B[1;32m---> 80\u001B[0m     x1 \u001B[38;5;241m=\u001B[39m \u001B[43mspeconv\u001B[49m\u001B[43m(\u001B[49m\u001B[43mx\u001B[49m\u001B[43m)\u001B[49m\n\u001B[0;32m     81\u001B[0m     x2 \u001B[38;5;241m=\u001B[39m w(x\u001B[38;5;241m.\u001B[39mview(batchsize, \u001B[38;5;28mself\u001B[39m\u001B[38;5;241m.\u001B[39mlayers[i], \u001B[38;5;241m-\u001B[39m\u001B[38;5;241m1\u001B[39m))\u001B[38;5;241m.\u001B[39mview(batchsize, \u001B[38;5;28mself\u001B[39m\u001B[38;5;241m.\u001B[39mlayers[i\u001B[38;5;241m+\u001B[39m\u001B[38;5;241m1\u001B[39m], size_x, size_y)\n\u001B[0;32m     82\u001B[0m     x \u001B[38;5;241m=\u001B[39m x1 \u001B[38;5;241m+\u001B[39m x2\n",
      "File \u001B[1;32m~\\miniconda3\\lib\\site-packages\\torch\\nn\\modules\\module.py:1194\u001B[0m, in \u001B[0;36mModule._call_impl\u001B[1;34m(self, *input, **kwargs)\u001B[0m\n\u001B[0;32m   1190\u001B[0m \u001B[38;5;66;03m# If we don't have any hooks, we want to skip the rest of the logic in\u001B[39;00m\n\u001B[0;32m   1191\u001B[0m \u001B[38;5;66;03m# this function, and just call forward.\u001B[39;00m\n\u001B[0;32m   1192\u001B[0m \u001B[38;5;28;01mif\u001B[39;00m \u001B[38;5;129;01mnot\u001B[39;00m (\u001B[38;5;28mself\u001B[39m\u001B[38;5;241m.\u001B[39m_backward_hooks \u001B[38;5;129;01mor\u001B[39;00m \u001B[38;5;28mself\u001B[39m\u001B[38;5;241m.\u001B[39m_forward_hooks \u001B[38;5;129;01mor\u001B[39;00m \u001B[38;5;28mself\u001B[39m\u001B[38;5;241m.\u001B[39m_forward_pre_hooks \u001B[38;5;129;01mor\u001B[39;00m _global_backward_hooks\n\u001B[0;32m   1193\u001B[0m         \u001B[38;5;129;01mor\u001B[39;00m _global_forward_hooks \u001B[38;5;129;01mor\u001B[39;00m _global_forward_pre_hooks):\n\u001B[1;32m-> 1194\u001B[0m     \u001B[38;5;28;01mreturn\u001B[39;00m forward_call(\u001B[38;5;241m*\u001B[39m\u001B[38;5;28minput\u001B[39m, \u001B[38;5;241m*\u001B[39m\u001B[38;5;241m*\u001B[39mkwargs)\n\u001B[0;32m   1195\u001B[0m \u001B[38;5;66;03m# Do not call functions when jit is used\u001B[39;00m\n\u001B[0;32m   1196\u001B[0m full_backward_hooks, non_full_backward_hooks \u001B[38;5;241m=\u001B[39m [], []\n",
      "File \u001B[1;32m~\\Documents\\GitHub\\PINO_Applications\\models\\basics.py:127\u001B[0m, in \u001B[0;36mSpectralConv2d.forward\u001B[1;34m(self, x, gridy)\u001B[0m\n\u001B[0;32m    123\u001B[0m     out_ft[:, :, \u001B[38;5;241m-\u001B[39m\u001B[38;5;28mself\u001B[39m\u001B[38;5;241m.\u001B[39mmodes1:, :\u001B[38;5;28mself\u001B[39m\u001B[38;5;241m.\u001B[39mmodes2] \u001B[38;5;241m=\u001B[39m \\\n\u001B[0;32m    124\u001B[0m         compl_mul2d(x_ft[:, :, \u001B[38;5;241m-\u001B[39m\u001B[38;5;28mself\u001B[39m\u001B[38;5;241m.\u001B[39mmodes1:, :\u001B[38;5;28mself\u001B[39m\u001B[38;5;241m.\u001B[39mmodes2], \u001B[38;5;28mself\u001B[39m\u001B[38;5;241m.\u001B[39mweights2)\n\u001B[0;32m    126\u001B[0m     \u001B[38;5;66;03m# Return to physical space\u001B[39;00m\n\u001B[1;32m--> 127\u001B[0m     x \u001B[38;5;241m=\u001B[39m \u001B[43mInverseDiscreteHartleyTransform\u001B[49m\u001B[43m(\u001B[49m\u001B[43mout_ft\u001B[49m\u001B[43m,\u001B[49m\u001B[43m \u001B[49m\u001B[43ms\u001B[49m\u001B[38;5;241;43m=\u001B[39;49m\u001B[43m(\u001B[49m\u001B[43mx\u001B[49m\u001B[38;5;241;43m.\u001B[39;49m\u001B[43msize\u001B[49m\u001B[43m(\u001B[49m\u001B[38;5;241;43m-\u001B[39;49m\u001B[38;5;241;43m2\u001B[39;49m\u001B[43m)\u001B[49m\u001B[43m,\u001B[49m\u001B[43m \u001B[49m\u001B[43mx\u001B[49m\u001B[38;5;241;43m.\u001B[39;49m\u001B[43msize\u001B[49m\u001B[43m(\u001B[49m\u001B[38;5;241;43m-\u001B[39;49m\u001B[38;5;241;43m1\u001B[39;49m\u001B[43m)\u001B[49m\u001B[43m)\u001B[49m\u001B[43m,\u001B[49m\u001B[43m \u001B[49m\u001B[43mdim\u001B[49m\u001B[38;5;241;43m=\u001B[39;49m\u001B[43m[\u001B[49m\u001B[38;5;241;43m2\u001B[39;49m\u001B[43m,\u001B[49m\u001B[43m \u001B[49m\u001B[38;5;241;43m3\u001B[39;49m\u001B[43m]\u001B[49m\u001B[43m)\u001B[49m\n\u001B[0;32m    128\u001B[0m \u001B[38;5;28;01melse\u001B[39;00m:\n\u001B[0;32m    129\u001B[0m     factor1 \u001B[38;5;241m=\u001B[39m compl_mul2d(x_ft[:, :, :\u001B[38;5;28mself\u001B[39m\u001B[38;5;241m.\u001B[39mmodes1, :\u001B[38;5;28mself\u001B[39m\u001B[38;5;241m.\u001B[39mmodes2], \u001B[38;5;28mself\u001B[39m\u001B[38;5;241m.\u001B[39mweights1)\n",
      "File \u001B[1;32m~\\Documents\\GitHub\\PINO_Applications\\models\\basics.py:18\u001B[0m, in \u001B[0;36mInverseDiscreteHartleyTransform\u001B[1;34m(X, s, dim)\u001B[0m\n\u001B[0;32m     13\u001B[0m \u001B[38;5;124;03m\"\"\" Compute the IDHT for a sequence x of length n using the FFT. \u001B[39;00m\n\u001B[0;32m     14\u001B[0m \u001B[38;5;124;03m\u001B[39;00m\n\u001B[0;32m     15\u001B[0m \u001B[38;5;124;03mSince the DHT is involutory, IDHT(x) = 1/n DHT(H) = 1/n DHT(DHT(x))\u001B[39;00m\n\u001B[0;32m     16\u001B[0m \u001B[38;5;124;03m\"\"\"\u001B[39;00m\n\u001B[0;32m     17\u001B[0m n \u001B[38;5;241m=\u001B[39m \u001B[38;5;28mlen\u001B[39m(X)\n\u001B[1;32m---> 18\u001B[0m \u001B[38;5;28;01mreturn\u001B[39;00m \u001B[38;5;241m1.0\u001B[39m\u001B[38;5;241m/\u001B[39mn\u001B[38;5;241m*\u001B[39m\u001B[43mDiscreteHartleyTransform\u001B[49m\u001B[43m(\u001B[49m\u001B[43mX\u001B[49m\u001B[43m,\u001B[49m\u001B[43m \u001B[49m\u001B[43ms\u001B[49m\u001B[38;5;241;43m=\u001B[39;49m\u001B[43ms\u001B[49m\u001B[43m,\u001B[49m\u001B[43m \u001B[49m\u001B[43mdim\u001B[49m\u001B[38;5;241;43m=\u001B[39;49m\u001B[43mdim\u001B[49m\u001B[43m)\u001B[49m\n",
      "File \u001B[1;32m~\\Documents\\GitHub\\PINO_Applications\\models\\basics.py:9\u001B[0m, in \u001B[0;36mDiscreteHartleyTransform\u001B[1;34m(X, s, dim)\u001B[0m\n\u001B[0;32m      8\u001B[0m \u001B[38;5;28;01mdef\u001B[39;00m \u001B[38;5;21mDiscreteHartleyTransform\u001B[39m(X:torch\u001B[38;5;241m.\u001B[39mTensor,s,dim):\n\u001B[1;32m----> 9\u001B[0m \tfft \u001B[38;5;241m=\u001B[39m \u001B[43mtorch\u001B[49m\u001B[38;5;241;43m.\u001B[39;49m\u001B[43mfft\u001B[49m\u001B[38;5;241;43m.\u001B[39;49m\u001B[43mrfftn\u001B[49m\u001B[43m(\u001B[49m\u001B[43mX\u001B[49m\u001B[43m,\u001B[49m\u001B[43m \u001B[49m\u001B[43ms\u001B[49m\u001B[38;5;241;43m=\u001B[39;49m\u001B[43ms\u001B[49m\u001B[43m,\u001B[49m\u001B[43m \u001B[49m\u001B[43mdim\u001B[49m\u001B[38;5;241;43m=\u001B[39;49m\u001B[43mdim\u001B[49m\u001B[43m)\u001B[49m\n\u001B[0;32m     10\u001B[0m \t\u001B[38;5;28;01mreturn\u001B[39;00m torch\u001B[38;5;241m.\u001B[39mreal(fft) \u001B[38;5;241m-\u001B[39m torch\u001B[38;5;241m.\u001B[39mimag(fft)\n",
      "\u001B[1;31mRuntimeError\u001B[0m: rfftn expects a real-valued input tensor, but got ComplexFloat"
     ]
    }
   ],
   "source": [
    "train_Burgers(model,\n",
    "              train_loader,\n",
    "              optimizer,\n",
    "              scheduler,\n",
    "              config,\n",
    "              rank=0,\n",
    "              log=log,\n",
    "              project=config['log']['project'],\n",
    "              group=config['log']['group'])"
   ]
  },
  {
   "cell_type": "code",
   "execution_count": null,
   "metadata": {},
   "outputs": [],
   "source": [
    "\n",
    "train_Burgers_padding(model,\n",
    "              train_loader,\n",
    "              optimizer,\n",
    "              scheduler,\n",
    "              config,\n",
    "              padding=5,\n",
    "              rank=0,\n",
    "              log=log,\n",
    "              project=config['log']['project'],\n",
    "              group=config['log']['group'])"
   ]
  },
  {
   "cell_type": "markdown",
   "metadata": {},
   "source": [
    "# Evaluate on Test Data"
   ]
  },
  {
   "cell_type": "code",
   "execution_count": null,
   "metadata": {},
   "outputs": [],
   "source": [
    "eval_Burgers(model, test_loader, config, device)"
   ]
  },
  {
   "cell_type": "code",
   "execution_count": null,
   "metadata": {},
   "outputs": [],
   "source": [
    "eval_Burgers_padding(model, test_loader, config=config, padding=5, device=device)"
   ]
  },
  {
   "cell_type": "code",
   "execution_count": null,
   "metadata": {},
   "outputs": [],
   "source": [
    "Nx = config['data']['nx']\n",
    "Nt = config['data']['nt'] + 1\n",
    "N = config['data']['n_test']\n",
    "model.eval()\n",
    "test_x = np.zeros((N,Nt,Nx,3))\n",
    "preds_y = np.zeros((N,Nt,Nx))\n",
    "test_y = np.zeros((N,Nt,Nx))\n",
    "with torch.no_grad():\n",
    "    for i, data in enumerate(test_loader):\n",
    "        data_x, data_y = data\n",
    "        data_x, data_y = data_x.to(device), data_y.to(device)\n",
    "        pred_y = model(data_x).reshape(data_y.shape)\n",
    "        test_x[i] = data_x.cpu().numpy()\n",
    "        test_y[i] = data_y.cpu().numpy()\n",
    "        preds_y[i] = pred_y.cpu().numpy()\n",
    "#     data_loss = myloss(out, y)\n"
   ]
  },
  {
   "cell_type": "markdown",
   "metadata": {},
   "source": [
    "# Generate Test Predictions"
   ]
  },
  {
   "cell_type": "markdown",
   "metadata": {},
   "source": [
    "## Unpadded"
   ]
  },
  {
   "cell_type": "code",
   "execution_count": null,
   "metadata": {},
   "outputs": [],
   "source": [
    "Nx = config['data']['nx']\n",
    "Nt = config['data']['nt'] + 1\n",
    "N = config['data']['n_test']\n",
    "model.eval()\n",
    "test_x = np.zeros((N,Nt,Nx,3))\n",
    "preds_y = np.zeros((N,Nt,Nx))\n",
    "test_y = np.zeros((N,Nt,Nx))\n",
    "with torch.no_grad():\n",
    "    for i, data in enumerate(test_loader):\n",
    "        data_x, data_y = data\n",
    "        data_x, data_y = data_x.to(device), data_y.to(device)\n",
    "        pred_y = model(data_x).reshape(data_y.shape)\n",
    "        test_x[i] = data_x.cpu().numpy()\n",
    "        test_y[i] = data_y.cpu().numpy()\n",
    "        preds_y[i] = pred_y.cpu().numpy()\n",
    "#     data_loss = myloss(out, y)"
   ]
  },
  {
   "cell_type": "markdown",
   "metadata": {},
   "source": [
    "## Padding"
   ]
  },
  {
   "cell_type": "code",
   "execution_count": null,
   "metadata": {},
   "outputs": [],
   "source": [
    "data_x.shape"
   ]
  },
  {
   "cell_type": "code",
   "execution_count": null,
   "metadata": {},
   "outputs": [],
   "source": [
    "use_train_data = False\n",
    "padding = 5\n",
    "batch_size = config['test']['batchsize']\n",
    "Nx = config['data']['nx']\n",
    "# Ny = config['data']['nx']\n",
    "Nt = config['data']['nt'] + 1\n",
    "Ntest = config['data']['n_test']\n",
    "Ntrain = config['data']['n_train']\n",
    "loader = test_loader\n",
    "if use_train_data:\n",
    "    Ntest = Ntrain\n",
    "    loader = train_loader\n",
    "# in_dim = config['model']['in_dim']\n",
    "# out_dim = config['model']['out_dim']\n",
    "\n",
    "model.eval()\n",
    "# model.to('cpu')\n",
    "test_x = np.zeros((Ntest,Nt,Nx,3))\n",
    "preds_y = np.zeros((Ntest,Nt,Nx))\n",
    "test_y = np.zeros((Ntest,Nt,Nx))\n",
    "\n",
    "\n",
    "with torch.no_grad():\n",
    "    for i, data in enumerate(loader):\n",
    "#     for i, data in enumerate(train_loader):\n",
    "        data_x, data_y = data\n",
    "        data_x, data_y = data_x.to(device), data_y.to(device)\n",
    "#         data_x_pad = F.pad()\n",
    "#         display(data_x.shape)\n",
    "        data_x_pad = F.pad(data_x, (0, 0, 0, 0, 0, padding), \"constant\", 0)\n",
    "        pred_y_pad = model(data_x_pad).reshape(batch_size, Nt + padding, Nx)\n",
    "#         out = out[..., :-padding, :]\n",
    "#         pred_y_pad = model(data_x_pad).reshape(batch_size, Nx, Ny, Nt + padding, out_dim)\n",
    "        pred_y = pred_y_pad[..., :-padding, :].reshape(data_y.shape)\n",
    "#         pred_y = model(data_x).reshape(data_y.shape)\n",
    "        test_x[i] = data_x.cpu().numpy()\n",
    "        test_y[i] = data_y.cpu().numpy()\n",
    "#         test_y0[i] = data_x[..., 0, -out_dim:].cpu().numpy() # same way as in training code\n",
    "        preds_y[i] = pred_y.cpu().numpy()\n",
    "#     data_loss = myloss(out, y)"
   ]
  },
  {
   "cell_type": "code",
   "execution_count": null,
   "metadata": {},
   "outputs": [],
   "source": [
    "len(preds_y)"
   ]
  },
  {
   "cell_type": "code",
   "execution_count": null,
   "metadata": {},
   "outputs": [],
   "source": [
    "key = 0\n",
    "pred = preds_y[key]\n",
    "true = test_y[key]\n",
    "\n",
    "\n",
    "a = test_x[key]\n",
    "Nt, Nx, _ = a.shape\n",
    "u0 = a[0,:,0]\n",
    "T = a[:,:,2]\n",
    "X = a[:,:,1]\n",
    "x = X[0]"
   ]
  },
  {
   "cell_type": "code",
   "execution_count": null,
   "metadata": {},
   "outputs": [],
   "source": [
    "fig = plt.figure(figsize=(24,5))\n",
    "plt.subplot(1,4,1)\n",
    "\n",
    "plt.plot(x, u0)\n",
    "plt.xlabel('$x$')\n",
    "plt.ylabel('$u$')\n",
    "plt.title('Intial Condition $u(x)$')\n",
    "plt.xlim([0,1])\n",
    "plt.tight_layout()\n",
    "\n",
    "plt.subplot(1,4,2)\n",
    "# plt.pcolor(XX,TT, S_test, cmap='jet')\n",
    "plt.pcolormesh(X, T, true, cmap='jet', shading='gouraud')\n",
    "plt.colorbar()\n",
    "plt.xlabel('$x$')\n",
    "plt.ylabel('$t$')\n",
    "plt.title(f'Exact $s(x,t)$')\n",
    "plt.tight_layout()\n",
    "plt.axis('square')\n",
    "\n",
    "plt.subplot(1,4,3)\n",
    "# plt.pcolor(XX,TT, S_pred, cmap='jet')\n",
    "plt.pcolormesh(X, T, pred, cmap='jet', shading='gouraud')\n",
    "plt.colorbar()\n",
    "plt.xlabel('$x$')\n",
    "plt.ylabel('$t$')\n",
    "plt.title(f'Predict $s(x,t)$')\n",
    "plt.axis('square')\n",
    "\n",
    "plt.tight_layout()\n",
    "\n",
    "plt.subplot(1,4,4)\n",
    "# plt.pcolor(XX,TT, S_pred - S_test, cmap='jet')\n",
    "plt.pcolormesh(X, T, pred - true, cmap='jet', shading='gouraud')\n",
    "plt.colorbar()\n",
    "plt.xlabel('$x$')\n",
    "plt.ylabel('$t$')\n",
    "plt.title('Absolute error')\n",
    "plt.tight_layout()\n",
    "plt.axis('square')\n",
    "\n",
    "# plt.show()"
   ]
  },
  {
   "cell_type": "markdown",
   "metadata": {},
   "source": [
    "# Save and Load Data"
   ]
  },
  {
   "cell_type": "code",
   "execution_count": null,
   "metadata": {},
   "outputs": [],
   "source": [
    "def save_data(data_path, test_x, test_y, preds_y):\n",
    "    data_dir, data_filename = os.path.split(data_path)\n",
    "    os.makedirs(data_dir, exist_ok=True)\n",
    "    np.savez(data_path, test_x=test_x, test_y=test_y, preds_y=preds_y)\n",
    "\n",
    "def load_data(data_path):\n",
    "    data = np.load(data_path)\n",
    "    test_x = data['test_x']\n",
    "    test_y = data['test_y']\n",
    "    preds_y = data['preds_y']\n",
    "    return test_x, test_y, preds_y"
   ]
  },
  {
   "cell_type": "code",
   "execution_count": null,
   "metadata": {},
   "outputs": [],
   "source": [
    "data_dir = 'data/Burgers1D'\n",
    "data_filename = 'data.npz'\n",
    "data_path = os.path.join(data_dir, data_filename)\n",
    "# os.makedirs(data_dir, exist_ok=True)\n"
   ]
  },
  {
   "cell_type": "code",
   "execution_count": null,
   "metadata": {},
   "outputs": [],
   "source": [
    "save_data(data_path, test_x, test_y, preds_y)"
   ]
  },
  {
   "cell_type": "code",
   "execution_count": null,
   "metadata": {},
   "outputs": [],
   "source": [
    "test_x, test_y, preds_y = load_data(data_path)"
   ]
  },
  {
   "cell_type": "code",
   "execution_count": null,
   "metadata": {},
   "outputs": [],
   "source": []
  },
  {
   "cell_type": "code",
   "execution_count": null,
   "metadata": {},
   "outputs": [],
   "source": [
    "def plot_predictions(key, test_x, test_y, preds_y, print_index=False, save_path=None, font_size=None):\n",
    "    if font_size is not None:\n",
    "        plt.rcParams.update({'font.size': font_size})\n",
    "    pred = preds_y[key]\n",
    "    true = test_y[key]\n",
    "\n",
    "\n",
    "    a = test_x[key]\n",
    "    Nt, Nx, _ = a.shape\n",
    "    u0 = a[0,:,0]\n",
    "    T = a[:,:,2]\n",
    "    X = a[:,:,1]\n",
    "    x = X[0]\n",
    "\n",
    "    # Plot\n",
    "    fig = plt.figure(figsize=(23,5))\n",
    "    plt.subplot(1,4,1)\n",
    "\n",
    "    plt.plot(x, u0)\n",
    "    plt.xlabel('$x$')\n",
    "    plt.ylabel('$u$')\n",
    "    plt.title('Intial Condition $u(x)$')\n",
    "    plt.xlim([0,1])\n",
    "    plt.tight_layout()\n",
    "\n",
    "    plt.subplot(1,4,2)\n",
    "    # plt.pcolor(XX,TT, S_test, cmap='jet')\n",
    "    plt.pcolormesh(X, T, true, cmap='jet', shading='gouraud')\n",
    "    plt.colorbar()\n",
    "    plt.xlabel('$x$')\n",
    "    plt.ylabel('$t$')\n",
    "    plt.title(f'Exact $u(x,t)$')\n",
    "    plt.tight_layout()\n",
    "    plt.axis('square')\n",
    "\n",
    "    plt.subplot(1,4,3)\n",
    "    # plt.pcolor(XX,TT, S_pred, cmap='jet')\n",
    "    plt.pcolormesh(X, T, pred, cmap='jet', shading='gouraud')\n",
    "    plt.colorbar()\n",
    "    plt.xlabel('$x$')\n",
    "    plt.ylabel('$t$')\n",
    "    plt.title(f'Predict $u(x,t)$')\n",
    "    plt.axis('square')\n",
    "\n",
    "    plt.tight_layout()\n",
    "\n",
    "    plt.subplot(1,4,4)\n",
    "    # plt.pcolor(XX,TT, S_pred - S_test, cmap='jet')\n",
    "    plt.pcolormesh(X, T, pred - true, cmap='jet', shading='gouraud')\n",
    "    plt.colorbar()\n",
    "    plt.xlabel('$x$')\n",
    "    plt.ylabel('$t$')\n",
    "    plt.title('Absolute Error')\n",
    "    plt.tight_layout()\n",
    "    plt.axis('square')\n",
    "\n",
    "    if save_path is not None:\n",
    "        plt.savefig(f'{save_path}.png', bbox_inches='tight')\n",
    "    plt.show()\n",
    "\n",
    "    \n"
   ]
  },
  {
   "cell_type": "code",
   "execution_count": null,
   "metadata": {},
   "outputs": [],
   "source": []
  },
  {
   "cell_type": "code",
   "execution_count": null,
   "metadata": {
    "scrolled": true
   },
   "outputs": [],
   "source": [
    "%matplotlib inline\n",
    "figures_dir = 'Burgers1D/figures/'\n",
    "os.makedirs(figures_dir, exist_ok=True)\n",
    "font_size = 12\n",
    "for key in range(len(preds_y)):\n",
    "    save_path = os.path.join(figures_dir, f'Burgers1D_{key}')\n",
    "    plot_predictions(key, test_x, test_y, preds_y, print_index=True, save_path=save_path, font_size=font_size)\n"
   ]
  },
  {
   "cell_type": "markdown",
   "metadata": {},
   "source": [
    "# Movies"
   ]
  },
  {
   "cell_type": "code",
   "execution_count": null,
   "metadata": {},
   "outputs": [],
   "source": [
    "def generate_movie_1D(key, test_x, test_y, preds_y, plot_title='', movie_dir='', movie_name='movie.gif', frame_basename='movie', frame_ext='jpg', remove_frames=True, font_size=None):\n",
    "    frame_files = []\n",
    "    os.makedirs(movie_dir, exist_ok=True)\n",
    "\n",
    "    if font_size is not None:\n",
    "        plt.rcParams.update({'font.size': font_size})\n",
    "    \n",
    "    pred = preds_y[key]\n",
    "    true = test_y[key]\n",
    "\n",
    "    \n",
    "    a = test_x[key]\n",
    "    Nt, Nx, _ = a.shape\n",
    "    u0 = a[0,:,0]\n",
    "    T = a[:,:,2]\n",
    "    X = a[:,:,1]\n",
    "    x = X[0]\n",
    "    t = T[:,0]\n",
    "\n",
    "    fig = plt.figure(figsize=(6,5))\n",
    "    ax = fig.add_subplot(111)\n",
    "    plt.ion()\n",
    "\n",
    "    fig.show()\n",
    "    fig.canvas.draw()\n",
    "    a = test_x[key]\n",
    "    Nt, Nx, _ = a.shape\n",
    "    u0 = a[0,:,0]\n",
    "    T = a[:,:,2]\n",
    "    X = a[:,:,1]\n",
    "    x = X[0]\n",
    "    ax.plot(x, true[0], 'b-', label='Exact')\n",
    "    ax.plot(x, pred[0], 'r--', label='PINO Prediction')\n",
    "    ylim = plt.ylim()\n",
    "    xlim = [0, 1]\n",
    "#     plt.xlim(xlim)\n",
    "#     plt.xlabel(f'$x$')\n",
    "#     plt.ylabel(f'$u$')\n",
    "#     plt.title(f'{plot_title} $t={t[0]:.2f}$')\n",
    "#     plt.legend(loc='lower right')\n",
    "    plt.tight_layout()\n",
    "    \n",
    "    \n",
    "    \n",
    "    for i in range(Nt):\n",
    "        ax.clear()\n",
    "        ax.plot(x, true[i], 'b-', label='Exact')\n",
    "        ax.plot(x, pred[i], 'r--', label='PINO Prediction')\n",
    "        plt.ylim(ylim)\n",
    "        plt.xlim(xlim)\n",
    "        plt.xlabel(f'$x$')\n",
    "        plt.ylabel(f'$u$')\n",
    "        plt.title(f'{plot_title} $t={t[i]:.2f}$')\n",
    "        plt.legend(loc='lower right')\n",
    "        plt.tight_layout()\n",
    "        fig.canvas.draw()\n",
    "#         plt.show()\n",
    "        if movie_dir:\n",
    "            frame_path = os.path.join(movie_dir,f'{frame_basename}-{i:03}.{frame_ext}')\n",
    "            frame_files.append(frame_path)\n",
    "            plt.savefig(frame_path)\n",
    "    \n",
    "    if movie_dir:\n",
    "        movie_path = os.path.join(movie_dir, movie_name)\n",
    "        with imageio.get_writer(movie_path, mode='I') as writer:\n",
    "            for frame in frame_files:\n",
    "                image = imageio.imread(frame)\n",
    "                writer.append_data(image)\n",
    "                \n",
    "    if movie_dir and remove_frames:\n",
    "        for frame in frame_files:\n",
    "            try:\n",
    "                os.remove(frame)\n",
    "            except:\n",
    "                pass\n"
   ]
  },
  {
   "cell_type": "markdown",
   "metadata": {},
   "source": [
    "## Movie Parameters"
   ]
  },
  {
   "cell_type": "code",
   "execution_count": null,
   "metadata": {},
   "outputs": [],
   "source": [
    "data_dir = 'data/Burgers1D'\n",
    "data_filename = 'data.npz'\n",
    "data_path = os.path.join(data_dir, data_filename)\n",
    "test_x, test_y, preds_y = load_data(data_path)\n",
    "movie_dir = f'Burgers1D/movie/'\n",
    "os.makedirs(movie_dir, exist_ok=True)\n",
    "\n"
   ]
  },
  {
   "cell_type": "markdown",
   "metadata": {},
   "source": [
    "## Movie 1"
   ]
  },
  {
   "cell_type": "code",
   "execution_count": null,
   "metadata": {},
   "outputs": [],
   "source": [
    "%matplotlib inline\n",
    "key = 0\n",
    "movie_name = f'Burgers1D_{key}.gif'\n",
    "frame_basename = f'Burgers1D_{key}_frame'\n",
    "frame_ext = 'jpg'\n",
    "plot_title = \"Burgers Equation\"\n",
    "font_size = 12\n",
    "remove_frames = True\n",
    "\n",
    "generate_movie_1D(key, test_x, test_y, preds_y, plot_title=plot_title, movie_dir=movie_dir, movie_name=movie_name, frame_basename=frame_basename, frame_ext=frame_ext, remove_frames=remove_frames, font_size=font_size)\n"
   ]
  },
  {
   "cell_type": "markdown",
   "metadata": {},
   "source": [
    "## Movie 2"
   ]
  },
  {
   "cell_type": "code",
   "execution_count": null,
   "metadata": {},
   "outputs": [],
   "source": [
    "%matplotlib inline\n",
    "key = 1\n",
    "movie_name = f'Burgers1D_{key}.gif'\n",
    "frame_basename = f'Burgers1D_{key}_frame'\n",
    "frame_ext = 'jpg'\n",
    "plot_title = \"Burgers Equation\"\n",
    "font_size = 12\n",
    "remove_frames = True\n",
    "\n",
    "generate_movie_1D(key, test_x, test_y, preds_y, plot_title=plot_title, movie_dir=movie_dir, movie_name=movie_name, frame_basename=frame_basename, frame_ext=frame_ext, remove_frames=remove_frames, font_size=font_size)\n"
   ]
  },
  {
   "cell_type": "markdown",
   "metadata": {},
   "source": [
    "## Movie 3"
   ]
  },
  {
   "cell_type": "code",
   "execution_count": null,
   "metadata": {},
   "outputs": [],
   "source": [
    "%matplotlib inline\n",
    "key = 2\n",
    "movie_name = f'Burgers1D_{key}.gif'\n",
    "frame_basename = f'Burgers1D_{key}_frame'\n",
    "frame_ext = 'jpg'\n",
    "plot_title = \"Burgers Equation\"\n",
    "font_size = 12\n",
    "remove_frames = True\n",
    "\n",
    "generate_movie_1D(key, test_x, test_y, preds_y, plot_title=plot_title, movie_dir=movie_dir, movie_name=movie_name, frame_basename=frame_basename, frame_ext=frame_ext, remove_frames=remove_frames, font_size=font_size)\n"
   ]
  },
  {
   "cell_type": "code",
   "execution_count": null,
   "metadata": {},
   "outputs": [],
   "source": [
    "%matplotlib notebook\n",
    "pred = preds_y[key]\n",
    "true = test_y[key]\n",
    "a = test_x[key]\n",
    "Nt, Nx, _ = a.shape\n",
    "u0 = a[0,:,0]\n",
    "T = a[:,:,2]\n",
    "X = a[:,:,1]\n",
    "x = X[0]\n",
    "fig = plt.figure(figsize=(6,5))\n",
    "ax = fig.add_subplot(111)\n",
    "plt.ion()\n",
    "fig.show()\n",
    "fig.canvas.draw()\n",
    "a = test_x[key]\n",
    "Nt, Nx, _ = a.shape\n",
    "u0 = a[0,:,0]\n",
    "T = a[:,:,2]\n",
    "X = a[:,:,1]\n",
    "x = X[0]\n",
    "ax.plot(x, true[0], 'b-', label='Exact')\n",
    "ax.plot(x, pred[0], 'r--', label='PINO Prediction')\n",
    "ylim = plt.ylim()\n",
    "xlim = [0, 1]\n",
    "plt.xlim(xlim)\n",
    "plt.xlabel(f'$x$')\n",
    "plt.ylabel(f'$u$')\n",
    "plt.title(f'Burgers Equation $t={t[0]:.2f}$')\n",
    "plt.legend(loc='lower right')\n",
    "plt.tight_layout()\n",
    "for i in range(Nt):\n",
    "    ax.clear()\n",
    "    ax.plot(x, true[i], 'b-', label='Exact')\n",
    "    ax.plot(x, pred[i], 'r--', label='PINO Prediction')\n",
    "    plt.ylim(ylim)\n",
    "    plt.xlim(xlim)\n",
    "    plt.xlabel(f'$x$')\n",
    "    plt.ylabel(f'$u$')\n",
    "    plt.title(f'Burgers Equation $t={t[i]:.2f}$')\n",
    "    plt.legend(loc='lower right')\n",
    "    plt.tight_layout()\n",
    "    fig.canvas.draw()"
   ]
  },
  {
   "cell_type": "code",
   "execution_count": null,
   "metadata": {},
   "outputs": [],
   "source": [
    "key = 0\n",
    "a = test_x[key]\n",
    "\n",
    "Nt, Nx, _ = a.shape\n",
    "u0 = a[0,:,0]\n",
    "T = a[:,:,2]\n",
    "X = a[:,:,1]\n",
    "x = X[0]\n",
    "t = T[:,0]\n",
    "t"
   ]
  },
  {
   "cell_type": "code",
   "execution_count": null,
   "metadata": {},
   "outputs": [],
   "source": [
    "%matplotlib notebook\n",
    "fig = plt.figure(figsize=(6,5))\n",
    "ax = fig.add_subplot(111)\n",
    "plt.ion()\n",
    "\n",
    "fig.show()\n",
    "fig.canvas.draw()\n",
    "a = test_x[key]\n",
    "Nt, Nx, _ = a.shape\n",
    "u0 = a[0,:,0]\n",
    "T = a[:,:,2]\n",
    "X = a[:,:,1]\n",
    "x = X[0]\n",
    "t = T[:,0]\n",
    "ax.plot(x, true[0], 'b-', label='Exact')\n",
    "ax.plot(x, pred[0], 'r--', label='PINO Prediction')\n",
    "ylim = plt.ylim()\n",
    "xlim = [0, 1]\n",
    "plt.tight_layout()\n",
    "\n",
    "\n",
    "\n",
    "for i in range(Nt):\n",
    "    ax.clear()\n",
    "    ax.plot(x, true[i], 'b-', label='Exact')\n",
    "    ax.plot(x, pred[i], 'r--', label='PINO Prediction')\n",
    "    plt.ylim(ylim)\n",
    "    plt.xlim(xlim)\n",
    "    plt.xlabel(f'$x$')\n",
    "    plt.ylabel(f'$u$')\n",
    "    plt.title(f'Burgers Equation $t={t[i]:.2f}$')\n",
    "    plt.legend(loc='lower right')\n",
    "    plt.tight_layout()\n",
    "    fig.canvas.draw()\n"
   ]
  },
  {
   "cell_type": "code",
   "execution_count": null,
   "metadata": {},
   "outputs": [],
   "source": []
  }
 ],
 "metadata": {
  "kernelspec": {
   "display_name": "Python 3 (ipykernel)",
   "language": "python",
   "name": "python3"
  },
  "language_info": {
   "codemirror_mode": {
    "name": "ipython",
    "version": 3
   },
   "file_extension": ".py",
   "mimetype": "text/x-python",
   "name": "python",
   "nbconvert_exporter": "python",
   "pygments_lexer": "ipython3",
   "version": "3.9.16"
  }
 },
 "nbformat": 4,
 "nbformat_minor": 4
}
